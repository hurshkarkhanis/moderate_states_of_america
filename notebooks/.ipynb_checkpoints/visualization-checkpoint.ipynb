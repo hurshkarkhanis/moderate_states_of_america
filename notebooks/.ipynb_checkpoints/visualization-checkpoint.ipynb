{
 "cells": [
  {
   "cell_type": "markdown",
   "metadata": {},
   "source": [
    "# Visualization"
   ]
  },
  {
   "cell_type": "code",
   "execution_count": null,
   "metadata": {},
   "outputs": [],
   "source": [
    "import pandas as pd\n",
    "import plotly.figure_factory as ff\n",
    "import plotly\n",
    "import plotly.express as px\n",
    "from urllib.request import urlopen\n",
    "import json"
   ]
  },
  {
   "cell_type": "markdown",
   "metadata": {},
   "source": [
    "## Reading In Data"
   ]
  },
  {
   "cell_type": "code",
   "execution_count": null,
   "metadata": {},
   "outputs": [],
   "source": [
    "clean = pd.read_csv('../data/2016_county_voting_data.csv')"
   ]
  },
  {
   "cell_type": "code",
   "execution_count": null,
   "metadata": {},
   "outputs": [],
   "source": [
    "# Plotly clorppleth required a geoJSON file with county names and FIPS codes\n",
    "with urlopen('https://raw.githubusercontent.com/plotly/datasets/master/geojson-counties-fips.json') as response:\n",
    "    counties = json.load(response)"
   ]
  },
  {
   "cell_type": "markdown",
   "metadata": {},
   "source": [
    "## Building Final DataFrame ready for Plotly"
   ]
  },
  {
   "cell_type": "code",
   "execution_count": null,
   "metadata": {},
   "outputs": [],
   "source": [
    "# building list of FIPS codes with trailing '0' when necessary\n",
    "# to make all FIPS codes five digits - wont be picked up otherwise\n",
    "five = []\n",
    "for fip in clean.fips_code:\n",
    "    if fip < 10000:\n",
    "        fip = '0' + str(fip)\n",
    "        \n",
    "        five.append(fip[:-2])\n",
    "    else:\n",
    "        fip = str(fip)\n",
    "        five.append((fip[:-2]))"
   ]
  },
  {
   "cell_type": "code",
   "execution_count": null,
   "metadata": {},
   "outputs": [],
   "source": [
    "# making a dictionary ready to feed into Plotly\n",
    "setup_dict = {'FIPS_code' : five, 'County': clean.county_name, 'State':clean.state, 'Democratic Vote Share': clean.blue_percentage}\n",
    "line_up = pd.DataFrame(data=setup_dict)"
   ]
  },
  {
   "cell_type": "markdown",
   "metadata": {},
   "source": [
    "## Plotly Figure"
   ]
  },
  {
   "cell_type": "code",
   "execution_count": null,
   "metadata": {},
   "outputs": [],
   "source": [
    "# Plotly figure\n",
    "fig = px.choropleth_mapbox(line_up, geojson=counties, locations='FIPS_code', color='Democratic Vote Share',\n",
    "                           color_continuous_scale=\"Bluered_r\",\n",
    "                           range_color=(0, 1),\n",
    "                           mapbox_style=\"carto-positron\",\n",
    "                           zoom=2.75, center = {\"lat\": 39.5, \"lon\": -98.35},\n",
    "                           opacity=0.8, \n",
    "                           hover_data=['State', 'County'], \n",
    "                           title = 'Moderate States of America - County Level (2016 Election)'\n",
    "                          )\n",
    "fig.show()"
   ]
  },
  {
   "cell_type": "markdown",
   "metadata": {},
   "source": [
    "## Save to .html"
   ]
  },
  {
   "cell_type": "code",
   "execution_count": null,
   "metadata": {},
   "outputs": [],
   "source": [
    "fig.write_html(\"../interactive_map/county_level_results.html\")"
   ]
  },
  {
   "cell_type": "code",
   "execution_count": null,
   "metadata": {},
   "outputs": [],
   "source": []
  }
 ],
 "metadata": {
  "kernelspec": {
   "display_name": "Python 3",
   "language": "python",
   "name": "python3"
  },
  "language_info": {
   "codemirror_mode": {
    "name": "ipython",
    "version": 3
   },
   "file_extension": ".py",
   "mimetype": "text/x-python",
   "name": "python",
   "nbconvert_exporter": "python",
   "pygments_lexer": "ipython3",
   "version": "3.8.2"
  }
 },
 "nbformat": 4,
 "nbformat_minor": 4
}
