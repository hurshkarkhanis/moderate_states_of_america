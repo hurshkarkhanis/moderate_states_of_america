{
 "cells": [
  {
   "cell_type": "markdown",
   "metadata": {},
   "source": [
    "# Data Wrangling"
   ]
  },
  {
   "cell_type": "code",
   "execution_count": null,
   "metadata": {},
   "outputs": [],
   "source": [
    "import pandas as pd\n",
    "import numpy as np"
   ]
  },
  {
   "cell_type": "markdown",
   "metadata": {},
   "source": [
    "## Reading and Cleaning Data"
   ]
  },
  {
   "cell_type": "code",
   "execution_count": null,
   "metadata": {},
   "outputs": [],
   "source": [
    "data = pd.read_csv('../data/countypres_2000-2016.csv')"
   ]
  },
  {
   "cell_type": "code",
   "execution_count": null,
   "metadata": {},
   "outputs": [],
   "source": [
    "# setting the year, data set goes from 2000 to 2016\n",
    "YEAR = 2016\n",
    "data = data.loc[(data['year'] == YEAR) & \n",
    "                (data['office'] == 'President')]"
   ]
  },
  {
   "cell_type": "code",
   "execution_count": null,
   "metadata": {},
   "outputs": [],
   "source": [
    "# found six rows (two counties in the USA) with NaN values in data, had to take those out\n",
    "data = data[data['candidatevotes'].notna()]"
   ]
  },
  {
   "cell_type": "markdown",
   "metadata": {},
   "source": [
    "## Building new DataFrame"
   ]
  },
  {
   "cell_type": "code",
   "execution_count": null,
   "metadata": {
    "scrolled": false
   },
   "outputs": [],
   "source": [
    "# making a new df for cleaned and aggregated data go into\n",
    "clean =  pd.DataFrame({'county_name': [],\n",
    "         'fips_code':[], \n",
    "         'state':[], \n",
    "         'blue_votes':[], \n",
    "       'red_votes': [], \n",
    "       'other_votes': [], \n",
    "          'blue_pct':[],\n",
    "          'red_pct':[],\n",
    "          'other_pct':[]})\n",
    "\n",
    "# making lists for cleaned df\n",
    "county_name_list = []\n",
    "county_code_list = []\n",
    "state_name_list = []\n",
    "blue_vote_list = []\n",
    "red_vote_list = []\n",
    "other_vote_list = []\n",
    "blue_pct_list = []\n",
    "red_pct_list = []\n",
    "other_pct_list = []"
   ]
  },
  {
   "cell_type": "code",
   "execution_count": null,
   "metadata": {
    "scrolled": false
   },
   "outputs": [],
   "source": [
    "# looping through data and appending lists to make cleaned df\n",
    "for x in data.FIPS.head(3000):\n",
    "    state_name = data.loc[(data['FIPS'] == x)]\n",
    "    st_name = str(state_name['state']).split()[1]\n",
    "    \n",
    "    county_name = data.loc[(data['FIPS'] == x)]\n",
    "    co_name = str(county_name['county']).split()[1]\n",
    "    \n",
    "    blue_votes = data.loc[(data['FIPS'] == x) & (data['candidate'] == 'Hillary Clinton')]\n",
    "    blue = int(blue_votes['candidatevotes'])\n",
    "    \n",
    "    red_votes = data.loc[(data['FIPS'] == x) & (data['candidate'] == 'Donald Trump')]\n",
    "    red = int(red_votes['candidatevotes'])\n",
    "    \n",
    "    other_votes = data.loc[(data['FIPS'] == x) & (data['candidate'] == 'Other')]\n",
    "    other = int(other_votes['candidatevotes'])\n",
    "    \n",
    "    county_name_list.append(co_name)\n",
    "    county_code_list.append(x)\n",
    "    state_name_list.append(st_name)\n",
    "    blue_vote_list.append(blue)\n",
    "    red_vote_list.append(red)\n",
    "    other_vote_list.append(other)\n",
    "    blue_pct_list.append((blue)/(blue+red+other))\n",
    "    red_pct_list.append((red)/(blue+red+other))\n",
    "    other_pct_list.append((other)/(blue+red+other))\n",
    "\n",
    "\n",
    "# creating cleaned data frame ready for visualization\n",
    "clean =  pd.DataFrame({'county_name': county_name_list,\n",
    "                   'fips_code':county_code_list,\n",
    "                   'state':state_name_list,\n",
    "                   'blue_votes':blue_vote_list,\n",
    "                   'red_votes': red_vote_list,\n",
    "                   'other_votes': other_vote_list,\n",
    "                   'blue_percentage': blue_pct_list,\n",
    "                   'red_percentage': red_pct_list,\n",
    "                   'other_percentage' : other_pct_list})\n",
    "\n",
    "# dropping duplicate rows since I already have all the data I \n",
    "# need in the first instance of that row\n",
    "clean = clean.drop_duplicates()"
   ]
  },
  {
   "cell_type": "markdown",
   "metadata": {},
   "source": [
    "## Creating .csv ready for visualization"
   ]
  },
  {
   "cell_type": "code",
   "execution_count": null,
   "metadata": {},
   "outputs": [],
   "source": [
    "# making clean df for graphing to use\n",
    "clean.to_csv('../data/{}_county_voting_data.csv'.format(YEAR))"
   ]
  },
  {
   "cell_type": "code",
   "execution_count": null,
   "metadata": {},
   "outputs": [],
   "source": []
  }
 ],
 "metadata": {
  "kernelspec": {
   "display_name": "Python 3",
   "language": "python",
   "name": "python3"
  },
  "language_info": {
   "codemirror_mode": {
    "name": "ipython",
    "version": 3
   },
   "file_extension": ".py",
   "mimetype": "text/x-python",
   "name": "python",
   "nbconvert_exporter": "python",
   "pygments_lexer": "ipython3",
   "version": "3.8.2"
  }
 },
 "nbformat": 4,
 "nbformat_minor": 4
}
